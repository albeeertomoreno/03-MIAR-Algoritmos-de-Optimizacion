{
  "nbformat": 4,
  "nbformat_minor": 0,
  "metadata": {
    "colab": {
      "provenance": [],
      "include_colab_link": true
    },
    "kernelspec": {
      "name": "python3",
      "display_name": "Python 3"
    }
  },
  "cells": [
    {
      "cell_type": "markdown",
      "metadata": {
        "id": "view-in-github",
        "colab_type": "text"
      },
      "source": [
        "<a href=\"https://colab.research.google.com/github/albeeertomoreno/03-MIAR-Algoritmos-de-Optimizacion/blob/main/Copia_de_Trabajo_Pr%C3%A1ctico_Algoritmos(V2).ipynb\" target=\"_parent\"><img src=\"https://colab.research.google.com/assets/colab-badge.svg\" alt=\"Open In Colab\"/></a>"
      ]
    },
    {
      "cell_type": "markdown",
      "metadata": {
        "id": "hVbXYX-RfPWh"
      },
      "source": [
        "# Algoritmos de optimización - Trabajo Práctico<br>\n",
        "Nombre y Apellidos: Alberto Moreno Torreira  <br>\n",
        "Url: https://github.com/.../03MAIR---Algoritmos-de-Optimizacion---/tree/master/TrabajoPractico<br>\n",
        "Google Colab: https://colab.research.google.com/drive/xxxxxxxxxxxxxxxx <br>\n",
        "Problema:\n",
        ">1. Sesiones de doblaje\n",
        "\n",
        "Se precisa coordinar el doblaje de una película. Los actores del doblaje deben coincidir en las\n",
        "tomas en las que sus personajes aparecen juntos en las diferentes tomas. Los actores de\n",
        "doblaje cobran todos la misma cantidad por cada día que deben desplazarse hasta el estudio de\n",
        "grabación independientemente del número de tomas que se graben. No es posible grabar más\n",
        "de 6 tomas por día. El objetivo es planificar las sesiones por día de manera que el gasto por los\n",
        "servicios de los actores de doblaje sea el menor posible.\n",
        "\n",
        "....\n",
        "\n",
        "\n",
        "\n",
        "\n",
        "\n",
        "\n",
        "\n",
        "                                        "
      ]
    },
    {
      "cell_type": "markdown",
      "source": [
        "#Modelo\n",
        "- ¿Como represento el espacio de soluciones?\n",
        "- ¿Cual es la función objetivo?\n",
        "- ¿Como implemento las restricciones?"
      ],
      "metadata": {
        "id": "Sbo9IqQtpaHZ"
      }
    },
    {
      "cell_type": "markdown",
      "source": [],
      "metadata": {
        "id": "67p_vszBposu"
      }
    },
    {
      "cell_type": "code",
      "source": [
        "!pip install pulp\n"
      ],
      "metadata": {
        "colab": {
          "base_uri": "https://localhost:8080/"
        },
        "id": "dq5XZ6qyM8hi",
        "outputId": "e6dcbc33-f0a7-42d1-b153-5c102a79cf92"
      },
      "execution_count": 2,
      "outputs": [
        {
          "output_type": "stream",
          "name": "stdout",
          "text": [
            "Collecting pulp\n",
            "  Downloading PuLP-2.7.0-py3-none-any.whl (14.3 MB)\n",
            "\u001b[2K     \u001b[90m━━━━━━━━━━━━━━━━━━━━━━━━━━━━━━━━━━━━━━━━\u001b[0m \u001b[32m14.3/14.3 MB\u001b[0m \u001b[31m25.9 MB/s\u001b[0m eta \u001b[36m0:00:00\u001b[0m\n",
            "\u001b[?25hInstalling collected packages: pulp\n",
            "Successfully installed pulp-2.7.0\n"
          ]
        }
      ]
    },
    {
      "cell_type": "code",
      "metadata": {
        "id": "AiskKkzZfy4e",
        "colab": {
          "base_uri": "https://localhost:8080/"
        },
        "outputId": "76079b79-d43e-44a4-c01a-32a782b68511"
      },
      "source": [
        "#Respuesta\n",
        "import pulp\n",
        "\n",
        "# Datos del problema\n",
        "num_tomas = 30\n",
        "num_dias = 6  # Estimación inicial, se puede ajustar\n",
        "\n",
        "# Crear el modelo de programación lineal\n",
        "modelo = pulp.LpProblem(\"Minimizar_dias_de_doblaje\", pulp.LpMinimize)\n",
        "\n",
        "# Variables de decisión\n",
        "# x_ij será 1 si la toma i se realiza el día j, y 0 en caso contrario\n",
        "x = pulp.LpVariable.dicts(\"x\", [(i,j) for i in range(num_tomas) for j in range(num_dias)],\n",
        "                          cat='Binary')\n",
        "\n",
        "# Función objetivo: Minimizar el número de días utilizados\n",
        "modelo += pulp.lpSum(x[(i,j)] for i in range(num_tomas) for j in range(num_dias))\n",
        "\n",
        "# Restricciones\n",
        "# 1. Cada toma se asigna exactamente a un día\n",
        "for i in range(num_tomas):\n",
        "    modelo += pulp.lpSum(x[(i,j)] for j in range(num_dias)) == 1\n",
        "\n",
        "# 2. No más de 6 tomas por día\n",
        "for j in range(num_dias):\n",
        "    modelo += pulp.lpSum(x[(i,j)] for i in range(num_tomas)) <= 6\n",
        "\n",
        "# Resolver el modelo\n",
        "modelo.solve()\n",
        "\n",
        "# Resultados\n",
        "asignacion_tomas_a_dias = [[x[(i,j)].varValue for j in range(num_dias)] for i in range(num_tomas)]\n",
        "for i in range(num_tomas):\n",
        "    for j in range(num_dias):\n",
        "        if asignacion_tomas_a_dias[i][j] == 1:\n",
        "            print(f\"Toma {i+1} asignada al día {j+1}\")\n"
      ],
      "execution_count": 3,
      "outputs": [
        {
          "output_type": "stream",
          "name": "stdout",
          "text": [
            "Toma 1 asignada al día 2\n",
            "Toma 2 asignada al día 1\n",
            "Toma 3 asignada al día 4\n",
            "Toma 4 asignada al día 5\n",
            "Toma 5 asignada al día 5\n",
            "Toma 6 asignada al día 2\n",
            "Toma 7 asignada al día 2\n",
            "Toma 8 asignada al día 2\n",
            "Toma 9 asignada al día 6\n",
            "Toma 10 asignada al día 6\n",
            "Toma 11 asignada al día 5\n",
            "Toma 12 asignada al día 6\n",
            "Toma 13 asignada al día 2\n",
            "Toma 14 asignada al día 5\n",
            "Toma 15 asignada al día 3\n",
            "Toma 16 asignada al día 1\n",
            "Toma 17 asignada al día 4\n",
            "Toma 18 asignada al día 1\n",
            "Toma 19 asignada al día 6\n",
            "Toma 20 asignada al día 5\n",
            "Toma 21 asignada al día 3\n",
            "Toma 22 asignada al día 1\n",
            "Toma 23 asignada al día 5\n",
            "Toma 24 asignada al día 2\n",
            "Toma 25 asignada al día 4\n",
            "Toma 26 asignada al día 3\n",
            "Toma 27 asignada al día 3\n",
            "Toma 28 asignada al día 4\n",
            "Toma 29 asignada al día 6\n",
            "Toma 30 asignada al día 6\n"
          ]
        }
      ]
    },
    {
      "cell_type": "markdown",
      "source": [
        "#Análisis\n",
        "- ¿Que complejidad tiene el problema?. Orden de complejidad y Contabilizar el espacio de soluciones"
      ],
      "metadata": {
        "id": "HZz52wOppp-U"
      }
    },
    {
      "cell_type": "markdown",
      "source": [
        "El espacio de soluciones de un problema de programación lineal entera está compuesto por todas las posibles asignaciones de valores a las variables de decisión. En tu caso, cada variable xij puede tomar valores 0 o 1, lo que indica si una toma ii se asigna a un día jj o no.\n",
        "\n",
        "Dado que hay 180 variables binarias, el espacio de soluciones tiene un tamaño de $2^{180}$\n",
        ", lo que es un número extraordinariamente grande. Sin embargo, muchas de estas soluciones serán inválidas debido a las restricciones del problema, como el límite de 6 tomas por día y que cada toma se debe asignar a exactamente un día"
      ],
      "metadata": {
        "id": "WwQ1W-toN18v"
      }
    },
    {
      "cell_type": "markdown",
      "source": [
        "#Diseño\n",
        "- ¿Que técnica utilizo? ¿Por qué?"
      ],
      "metadata": {
        "id": "ixEJUwH_pv7M"
      }
    },
    {
      "cell_type": "markdown",
      "source": [
        " Utilizamos una técnica de Programación Lineal Entera (PLE) para abordar la optimización por los siguientes motivos:\n",
        "\n",
        "- Naturaleza de las Variables: Las variables de decisión son binarias, es decir, toman valores 0 o 1 para indicar si una toma se asigna a un día o no. En los problemas de Programación Lineal Entera (PLE) se busca una combinación óptima de variables binarias.\n",
        "\n",
        "- Objetivo Lineal: La función objetivo del problema es minimizar el número de días de grabación. Este objetivo es lineal, ya que simplemente involucra contar cuántos días se utilizan, lo que se ajusta al marco de un problema de PLE.\n",
        "\n",
        "- Restricciones Lineales: Las restricciones del problema, como la asignación de exactamente una toma a un día y el límite de 6 tomas por día, son restricciones lineales. Esto significa que pueden expresarse de manera lineal en términos de las variables de decisión.\n",
        "\n",
        "- Eficiencia de los Solucionadores: Los solucionadores modernos de PLE, como el utilizado en la biblioteca pulp, son altamente eficientes y pueden manejar problemas de tamaño moderado a grande. Esto permite encontrar soluciones óptimas o cercanas a la óptima en un tiempo razonable.\n",
        "\n",
        "- Facilita la Implementación: La formulación de un problema de PLE es más clara y directa en comparación con otros enfoques. Esto facilita la implementación y comprensión del modelo."
      ],
      "metadata": {
        "id": "bgIYMSE7PJCZ"
      }
    },
    {
      "cell_type": "code",
      "source": [],
      "metadata": {
        "id": "JsJwhAf0P7tN"
      },
      "execution_count": null,
      "outputs": []
    }
  ]
}